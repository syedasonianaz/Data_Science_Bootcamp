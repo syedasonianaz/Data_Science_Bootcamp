{
 "cells": [
  {
   "cell_type": "code",
   "execution_count": 1,
   "metadata": {},
   "outputs": [
    {
     "name": "stdout",
     "output_type": "stream",
     "text": [
      "The key 'age' exists in the dictionary.\n"
     ]
    }
   ],
   "source": [
    "# 1. Write a Python script to check whether a given key already exists in a dictionary.\n",
    "# Sample dictionary\n",
    "my_dict = {'name': 'John', 'age': 25, 'city': 'New York'}\n",
    "\n",
    "# Function to check if key exists in dictionary\n",
    "def check_key_existence(dictionary, key):\n",
    "    return key in dictionary\n",
    "\n",
    "# Usage:\n",
    "given_key = 'age'\n",
    "\n",
    "if check_key_existence(my_dict, given_key):\n",
    "    print(f\"The key '{given_key}' exists in the dictionary.\")\n",
    "else:\n",
    "    print(f\"The key '{given_key}' does not exist in the dictionary.\")\n"
   ]
  },
  {
   "cell_type": "code",
   "execution_count": 2,
   "metadata": {},
   "outputs": [
    {
     "name": "stdout",
     "output_type": "stream",
     "text": [
      "Combined Dictionary:\n",
      "{'a': 400, 'b': 400, 'c': 300, 'd': 400}\n"
     ]
    }
   ],
   "source": [
    "# 2. Write a Python program to combine two dictionary by adding values for common keys.\n",
    "\n",
    "# d1 = {'a': 100, 'b': 200, 'c':300}\n",
    "\n",
    "# d2 = {'a': 300, 'b': 200, 'd':400}\n",
    "\n",
    "# Sample dictionaries\n",
    "d1 = {'a': 100, 'b': 200, 'c': 300}\n",
    "d2 = {'a': 300, 'b': 200, 'd': 400}\n",
    "\n",
    "# Function to combine dictionaries by adding values for common keys\n",
    "def combine_dictionaries(dict1, dict2):\n",
    "    combined_dict = dict1.copy()\n",
    "\n",
    "    for key, value in dict2.items():\n",
    "        if key in combined_dict:\n",
    "            combined_dict[key] += value\n",
    "        else:\n",
    "            combined_dict[key] = value\n",
    "\n",
    "    return combined_dict\n",
    "\n",
    "result_dict = combine_dictionaries(d1, d2)\n",
    "\n",
    "print(\"Combined Dictionary:\")\n",
    "print(result_dict)\n"
   ]
  },
  {
   "cell_type": "code",
   "execution_count": 4,
   "metadata": {},
   "outputs": [
    {
     "name": "stdout",
     "output_type": "stream",
     "text": [
      "Resulting Dictionary:\n",
      "{'Ten': 10, 'Twenty': 20, 'Thirty': 30}\n"
     ]
    }
   ],
   "source": [
    "# 3. Below are the two lists. Write a Python program to convert them into a dictionary in a way that item from list1 is the key and item from list2 is the value\n",
    "\n",
    "# keys = ['Ten', 'Twenty', 'Thirty']\n",
    "\n",
    "# values = [10, 20, 30]\n",
    "\n",
    "# Sample lists\n",
    "keys = ['Ten', 'Twenty', 'Thirty']\n",
    "values = [10, 20, 30]\n",
    "\n",
    "# Function to convert two lists into a dictionary\n",
    "def lists_to_dictionary(list1, list2):\n",
    "    return dict(zip(list1, list2))\n",
    "\n",
    "result_dict = lists_to_dictionary(keys, values)\n",
    "\n",
    "print(\"Resulting Dictionary:\")\n",
    "print(result_dict)\n"
   ]
  },
  {
   "cell_type": "code",
   "execution_count": 5,
   "metadata": {},
   "outputs": [
    {
     "name": "stdout",
     "output_type": "stream",
     "text": [
      "Modified Dictionary after deleting keys:\n",
      "{'age': 25, 'city': 'New York'}\n"
     ]
    }
   ],
   "source": [
    "# 4. Delete a list of keys from a dictionary\n",
    "# Given:\n",
    "\n",
    "# sample_dict = {\n",
    "#     \"name\": \"Kelly\",\n",
    "#     \"age\": 25,\n",
    "#     \"salary\": 8000,\n",
    "#     \"city\": \"New york\"\n",
    "# }\n",
    "\n",
    "\n",
    "# Keys to remove\n",
    "\n",
    "# keys = [\"name\", \"salary\"]\n",
    "\n",
    "# Given dictionary\n",
    "sample_dict = {\n",
    "    \"name\": \"Kelly\",\n",
    "    \"age\": 25,\n",
    "    \"salary\": 8000,\n",
    "    \"city\": \"New York\"\n",
    "}\n",
    "\n",
    "# Keys to remove\n",
    "keys_to_remove = [\"name\", \"salary\"]\n",
    "\n",
    "for key in keys_to_remove:\n",
    "    sample_dict.pop(key, None)\n",
    "\n",
    "print(\"Modified Dictionary after deleting keys:\")\n",
    "print(sample_dict)\n"
   ]
  },
  {
   "cell_type": "code",
   "execution_count": 6,
   "metadata": {},
   "outputs": [
    {
     "name": "stdout",
     "output_type": "stream",
     "text": [
      "The value 200 exists in the dictionary.\n"
     ]
    }
   ],
   "source": [
    "# 5. Write a Python program to check if value 200 exists in the following dictionary.\n",
    "\n",
    "\n",
    "# sample_dict = {'a': 100, 'b': 200, 'c': 300}\n",
    "\n",
    "# Given dictionary\n",
    "sample_dict = {'a': 100, 'b': 200, 'c': 300}\n",
    "\n",
    "# Value to check\n",
    "value_to_check = 200\n",
    "\n",
    "# Check if the value exists in the dictionary\n",
    "if value_to_check in sample_dict.values():\n",
    "    print(f\"The value {value_to_check} exists in the dictionary.\")\n",
    "else:\n",
    "    print(f\"The value {value_to_check} does not exist in the dictionary.\")\n"
   ]
  }
 ],
 "metadata": {
  "kernelspec": {
   "display_name": "Python 3",
   "language": "python",
   "name": "python3"
  },
  "language_info": {
   "codemirror_mode": {
    "name": "ipython",
    "version": 3
   },
   "file_extension": ".py",
   "mimetype": "text/x-python",
   "name": "python",
   "nbconvert_exporter": "python",
   "pygments_lexer": "ipython3",
   "version": "3.11.4"
  }
 },
 "nbformat": 4,
 "nbformat_minor": 2
}

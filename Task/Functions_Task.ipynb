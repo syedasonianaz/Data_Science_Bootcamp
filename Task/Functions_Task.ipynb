{
 "cells": [
  {
   "cell_type": "code",
   "execution_count": 1,
   "metadata": {},
   "outputs": [
    {
     "name": "stdout",
     "output_type": "stream",
     "text": [
      "The maximum of 7, 12, and 5 is: 12\n"
     ]
    }
   ],
   "source": [
    "# 1. Write a Python function to find the maximum of three numbers.\n",
    "def find_maximum(num1, num2, num3):\n",
    "    max_num = max(num1, num2, num3)\n",
    "    return max_num\n",
    "\n",
    "# Example usage:\n",
    "number1 = 7\n",
    "number2 = 12\n",
    "number3 = 5\n",
    "\n",
    "maximum_number = find_maximum(number1, number2, number3)\n",
    "\n",
    "print(f\"The maximum of {number1}, {number2}, and {number3} is: {maximum_number}\")\n"
   ]
  },
  {
   "cell_type": "code",
   "execution_count": 2,
   "metadata": {},
   "outputs": [
    {
     "name": "stdout",
     "output_type": "stream",
     "text": [
      "The result of multiplying all numbers in the list [8, 2, 3, -1, 7] is: -336\n"
     ]
    }
   ],
   "source": [
    "# 2. Write a Python function to multiply all the numbers in a list.\n",
    "# Sample List : (8, 2, 3, -1, 7)\n",
    "\n",
    "def multiply_list(numbers):\n",
    "    result = 1\n",
    "    for num in numbers:\n",
    "        result *= num\n",
    "    return result\n",
    "\n",
    "sample_list = [8, 2, 3, -1, 7]\n",
    "\n",
    "result = multiply_list(sample_list)\n",
    "\n",
    "print(f\"The result of multiplying all numbers in the list {sample_list} is: {result}\")\n"
   ]
  },
  {
   "cell_type": "code",
   "execution_count": 3,
   "metadata": {},
   "outputs": [
    {
     "name": "stdout",
     "output_type": "stream",
     "text": [
      "No. of Upper case characters: 3\n",
      "No. of Lower case characters: 12\n"
     ]
    }
   ],
   "source": [
    "# 3. Write a Python function that accepts a string and counts the number of upper and lower case letters.\n",
    "# Sample String : 'The quick Brow Fox'\n",
    "\n",
    "# Expected Output :\n",
    "\n",
    "# No. of Upper case characters : 3\n",
    "# No. of Lower case Characters : 12\n",
    "\n",
    "def count_case_characters(input_string):\n",
    "    upper_count = 0\n",
    "    lower_count = 0\n",
    "\n",
    "    for char in input_string:\n",
    "        if char.isupper():\n",
    "            upper_count += 1\n",
    "        elif char.islower():\n",
    "            lower_count += 1\n",
    "\n",
    "    return upper_count, lower_count\n",
    "\n",
    "# Example usage:\n",
    "sample_string = 'The quick Brow Fox'\n",
    "\n",
    "upper_count, lower_count = count_case_characters(sample_string)\n",
    "\n",
    "print(f\"No. of Upper case characters: {upper_count}\")\n",
    "print(f\"No. of Lower case characters: {lower_count}\")\n"
   ]
  },
  {
   "cell_type": "code",
   "execution_count": 4,
   "metadata": {},
   "outputs": [
    {
     "name": "stdout",
     "output_type": "stream",
     "text": [
      "List of squares of numbers between 1 and 30:\n",
      "[1, 4, 9, 16, 25, 36, 49, 64, 81, 100, 121, 144, 169, 196, 225, 256, 289, 324, 361, 400, 441, 484, 529, 576, 625, 676, 729, 784, 841, 900]\n"
     ]
    }
   ],
   "source": [
    "# 4. Write a Python function to create and print a list where the values are the squares of numbers between 1 and 30 (both included).\n",
    "\n",
    "def create_square_list():\n",
    "    square_list = [x**2 for x in range(1, 31)]\n",
    "    return square_list\n",
    "\n",
    "# Usage:\n",
    "result_list = create_square_list()\n",
    "\n",
    "print(\"List of squares of numbers between 1 and 30:\")\n",
    "print(result_list)\n"
   ]
  },
  {
   "cell_type": "code",
   "execution_count": 5,
   "metadata": {},
   "outputs": [
    {
     "name": "stdout",
     "output_type": "stream",
     "text": [
      "The factorial of 5 is: 120\n"
     ]
    }
   ],
   "source": [
    "# 5. Write a Python function to calculate the factorial of a number (a non-negative integer). The function accepts the number as an argument.\n",
    "\n",
    "def calculate_factorial(n):\n",
    "    if n < 0:\n",
    "        return \"Factorial is not defined for negative numbers.\"\n",
    "    elif n == 0 or n == 1:\n",
    "        return 1\n",
    "    else:\n",
    "        factorial_result = 1\n",
    "        for i in range(2, n + 1):\n",
    "            factorial_result *= i\n",
    "        return factorial_result\n",
    "\n",
    "# Usage:\n",
    "number = 5\n",
    "factorial_result = calculate_factorial(number)\n",
    "\n",
    "print(f\"The factorial of {number} is: {factorial_result}\")\n"
   ]
  }
 ],
 "metadata": {
  "kernelspec": {
   "display_name": "Python 3",
   "language": "python",
   "name": "python3"
  },
  "language_info": {
   "codemirror_mode": {
    "name": "ipython",
    "version": 3
   },
   "file_extension": ".py",
   "mimetype": "text/x-python",
   "name": "python",
   "nbconvert_exporter": "python",
   "pygments_lexer": "ipython3",
   "version": "3.11.4"
  }
 },
 "nbformat": 4,
 "nbformat_minor": 2
}

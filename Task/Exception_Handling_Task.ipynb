{
 "cells": [
  {
   "cell_type": "code",
   "execution_count": 2,
   "metadata": {},
   "outputs": [
    {
     "name": "stdout",
     "output_type": "stream",
     "text": [
      "The division by zero operation is not allowed.\n"
     ]
    }
   ],
   "source": [
    "# 1. Write a Python program to handle a ZeroDivisionError exception when dividing a number by zero.\n",
    "\n",
    "def divide_numbers(x, y):\n",
    "    try:\n",
    "        result = x / y\n",
    "        print(\"Result:\", result)\n",
    "    except ZeroDivisionError:\n",
    "        print(\"The division by zero operation is not allowed.\")\n",
    "\n",
    "# Usage\n",
    "numerator = 100\n",
    "denominator = 0\n",
    "divide_numbers(numerator, denominator)"
   ]
  },
  {
   "cell_type": "code",
   "execution_count": 3,
   "metadata": {},
   "outputs": [
    {
     "name": "stdout",
     "output_type": "stream",
     "text": [
      "The file does not exist.\n"
     ]
    }
   ],
   "source": [
    "# 2. Write a Python program that opens a file and handles a FileNotFoundError exception if the file does not exist.\n",
    "\n",
    "def open_file(file_path):\n",
    "    try:\n",
    "        with open(file_path, 'r') as file:\n",
    "            print(\"File content:\")\n",
    "            print(file.read())\n",
    "    except FileNotFoundError:\n",
    "        print(\"The file does not exist.\")\n",
    "\n",
    "# Usage\n",
    "file_path = \"non_existent_file.txt\"\n",
    "open_file(file_path)"
   ]
  },
  {
   "cell_type": "code",
   "execution_count": 4,
   "metadata": {},
   "outputs": [
    {
     "name": "stdout",
     "output_type": "stream",
     "text": [
      "The integer you entered is: 5\n"
     ]
    }
   ],
   "source": [
    "# 3. Write a Python program that prompts the user to input an integer and raises a ValueError exception if the input is not a valid integer.\n",
    "\n",
    "def get_integer_input():\n",
    "    try:\n",
    "        user_input = input(\"Enter an integer: \")\n",
    "        number = int(user_input)\n",
    "        return number\n",
    "    except ValueError:\n",
    "        print(\"Invalid input. Please enter an integer.\")\n",
    "        return None\n",
    "\n",
    "# Usage\n",
    "number = get_integer_input()\n",
    "if number is not None:\n",
    "    print(\"The integer you entered is:\", number)"
   ]
  },
  {
   "cell_type": "code",
   "execution_count": 5,
   "metadata": {},
   "outputs": [
    {
     "name": "stdout",
     "output_type": "stream",
     "text": [
      "The first number is: 7.0\n",
      "The second number is: 3.0\n"
     ]
    }
   ],
   "source": [
    "# 4. Write a Python program that prompts the user to input two numbers and raises a TypeError exception if the inputs are not numerical.\n",
    "def get_two_numbers():\n",
    "    try:\n",
    "        num1 = float(input(\"Enter the first number: \"))\n",
    "        num2 = float(input(\"Enter the second number: \"))\n",
    "        return num1, num2\n",
    "    except ValueError:\n",
    "        print(\"Invalid input. Please enter a number.\")\n",
    "        return None, None\n",
    "\n",
    "# Usage\n",
    "num1, num2 = get_two_numbers()\n",
    "if num1 is not None and num2 is not None:\n",
    "    print(\"The first number is:\", num1)\n",
    "    print(\"The second number is:\", num2)"
   ]
  }
 ],
 "metadata": {
  "kernelspec": {
   "display_name": "Python 3",
   "language": "python",
   "name": "python3"
  },
  "language_info": {
   "codemirror_mode": {
    "name": "ipython",
    "version": 3
   },
   "file_extension": ".py",
   "mimetype": "text/x-python",
   "name": "python",
   "nbconvert_exporter": "python",
   "pygments_lexer": "ipython3",
   "version": "3.11.4"
  }
 },
 "nbformat": 4,
 "nbformat_minor": 2
}

{
 "cells": [
  {
   "cell_type": "code",
   "execution_count": 7,
   "metadata": {},
   "outputs": [
    {
     "name": "stdout",
     "output_type": "stream",
     "text": [
      "\n",
      "Appended text.\n"
     ]
    }
   ],
   "source": [
    "# 1. Write a Python program to read an entire text file.\n",
    "def file_read(fname):\n",
    "    txt = open(fname)\n",
    "    print(txt.read())\n",
    "    txt.close()\n",
    "\n",
    "file_read('text.txt')"
   ]
  },
  {
   "cell_type": "code",
   "execution_count": 13,
   "metadata": {},
   "outputs": [
    {
     "name": "stdout",
     "output_type": "stream",
     "text": [
      "\n",
      "Appended text.\n",
      "Appended text.\n",
      "Appended text.\n",
      "Appended text.\n",
      "Appended text.Appended text.Appended text.\n"
     ]
    }
   ],
   "source": [
    "# 2. Write a Python program to append text to a file and display the text.\n",
    "def file_append(fname, text):\n",
    "    with open(fname, 'a') as txt:\n",
    "        txt.write(text)\n",
    "\n",
    "# Append text to the file\n",
    "file_append('text.txt', 'Appended text.')\n",
    "\n",
    "# Read the contents of the file\n",
    "with open('text.txt', 'r') as txt:\n",
    "    print(txt.read())\n"
   ]
  },
  {
   "cell_type": "code",
   "execution_count": 5,
   "metadata": {},
   "outputs": [
    {
     "name": "stdout",
     "output_type": "stream",
     "text": [
      "Line 1: \n",
      "Line 2: Appended text."
     ]
    }
   ],
   "source": [
    "# 3. Write a Python program to read a file line by line and store it into a list.\n",
    "def file_to_list(fname):\n",
    "    with open(fname) as f:\n",
    "        lines = f.readlines()\n",
    "    for i, line in enumerate(lines):\n",
    "        print(f'Line {i+1}: {line}', end='')\n",
    "\n",
    "file_to_list('text.txt')"
   ]
  },
  {
   "cell_type": "code",
   "execution_count": 6,
   "metadata": {},
   "outputs": [
    {
     "name": "stdout",
     "output_type": "stream",
     "text": [
      "['looking', 'longest']\n"
     ]
    }
   ],
   "source": [
    "# 4. Write a python program to find the longest words.\n",
    "def longest_words(s):\n",
    "    words = s.split()\n",
    "    max_length = len(max(words, key=len))\n",
    "    longest_words = [word for word in words if len(word) == max_length]\n",
    "    return longest_words\n",
    "\n",
    "s = \"In this string we are looking for the longest words\"\n",
    "print(longest_words(s))"
   ]
  }
 ],
 "metadata": {
  "kernelspec": {
   "display_name": "Python 3",
   "language": "python",
   "name": "python3"
  },
  "language_info": {
   "codemirror_mode": {
    "name": "ipython",
    "version": 3
   },
   "file_extension": ".py",
   "mimetype": "text/x-python",
   "name": "python",
   "nbconvert_exporter": "python",
   "pygments_lexer": "ipython3",
   "version": "3.11.4"
  }
 },
 "nbformat": 4,
 "nbformat_minor": 2
}

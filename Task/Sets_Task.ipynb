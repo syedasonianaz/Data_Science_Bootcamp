{
 "cells": [
  {
   "cell_type": "code",
   "execution_count": 1,
   "metadata": {},
   "outputs": [
    {
     "name": "stdout",
     "output_type": "stream",
     "text": [
      "Item 3 removed successfully using discard().\n",
      "Modified Set: {1, 2, 4, 5}\n"
     ]
    }
   ],
   "source": [
    "# 1. Write a Python program to remove an item from a set if it is present in the set\n",
    "# Given set\n",
    "my_set = {1, 2, 3, 4, 5}\n",
    "\n",
    "# Item to remove\n",
    "item_to_remove = 3\n",
    "\n",
    "my_set.discard(item_to_remove)\n",
    "print(f\"Item {item_to_remove} removed successfully using discard().\")\n",
    "\n",
    "\n",
    "print(\"Modified Set:\", my_set)\n"
   ]
  },
  {
   "cell_type": "code",
   "execution_count": 2,
   "metadata": {},
   "outputs": [
    {
     "name": "stdout",
     "output_type": "stream",
     "text": [
      "Item 10 removed successfully using remove().\n",
      "Item 20 removed successfully using remove().\n",
      "Item 30 removed successfully using remove().\n",
      "Modified Set: {50, 40}\n"
     ]
    }
   ],
   "source": [
    "# 2. Write a Python program to remove items 10, 20, 30 from the following set\n",
    "\n",
    "# set1 = {10, 20, 30, 40, 50}\n",
    "\n",
    "# Given set\n",
    "set1 = {10, 20, 30, 40, 50}\n",
    "\n",
    "# Items to remove\n",
    "items_to_remove = {10, 20, 30}\n",
    "\n",
    "\n",
    "for item in items_to_remove:\n",
    "    try:\n",
    "        set1.remove(item)\n",
    "        print(f\"Item {item} removed successfully using remove().\")\n",
    "    except KeyError:\n",
    "        print(f\"Item {item} not present in the set.\")\n",
    "\n",
    "print(\"Modified Set:\", set1)\n"
   ]
  },
  {
   "cell_type": "code",
   "execution_count": 3,
   "metadata": {},
   "outputs": [
    {
     "name": "stdout",
     "output_type": "stream",
     "text": [
      "Common elements: {10}\n"
     ]
    }
   ],
   "source": [
    "# 3. Check if two sets have any elements in common. If yes, display the common elements\n",
    "\n",
    "# set1 = {10, 20, 30, 40, 50}\n",
    "# set2 = {60, 70, 80, 90, 10}\n",
    "\n",
    "# Given sets\n",
    "set1 = {10, 20, 30, 40, 50}\n",
    "set2 = {60, 70, 80, 90, 10}\n",
    "\n",
    "common_elements = set1.intersection(set2)\n",
    "\n",
    "if common_elements:\n",
    "    print(\"Common elements:\", common_elements)\n",
    "else:\n",
    "    print(\"No common elements found.\")\n"
   ]
  },
  {
   "cell_type": "code",
   "execution_count": 4,
   "metadata": {},
   "outputs": [
    {
     "name": "stdout",
     "output_type": "stream",
     "text": [
      "Modified set1 after adding items from set2:\n",
      "{50, 20, 70, 40, 10, 60, 30}\n"
     ]
    }
   ],
   "source": [
    "# 4. Update set1 by adding items from set2, except common items\n",
    "\n",
    "\n",
    "# set1 = {10, 20, 30, 40, 50}\n",
    "# set2 = {30, 40, 50, 60, 70}\n",
    "\n",
    "# Given sets\n",
    "set1 = {10, 20, 30, 40, 50}\n",
    "set2 = {30, 40, 50, 60, 70}\n",
    "\n",
    "new_elements = set2 - set1\n",
    "\n",
    "set1.update(new_elements)\n",
    "\n",
    "print(\"Modified set1 after adding items from set2:\")\n",
    "print(set1)\n"
   ]
  },
  {
   "cell_type": "code",
   "execution_count": 5,
   "metadata": {},
   "outputs": [
    {
     "name": "stdout",
     "output_type": "stream",
     "text": [
      "Modified set1 after removing items not common to both set1 and set2:\n",
      "{40, 50, 30}\n"
     ]
    }
   ],
   "source": [
    "# 5. Remove items from set1 that are not common to both set1 and set2\n",
    "\n",
    "\n",
    "# set1 = {10, 20, 30, 40, 50}\n",
    "# set2 = {30, 40, 50, 60, 70}\n",
    "\n",
    "# Given sets\n",
    "set1 = {10, 20, 30, 40, 50}\n",
    "set2 = {30, 40, 50, 60, 70}\n",
    "\n",
    "common_elements = set1.intersection(set2)\n",
    "\n",
    "set1.intersection_update(set2)\n",
    "\n",
    "print(\"Modified set1 after removing items not common to both set1 and set2:\")\n",
    "print(set1)\n"
   ]
  }
 ],
 "metadata": {
  "kernelspec": {
   "display_name": "Python 3",
   "language": "python",
   "name": "python3"
  },
  "language_info": {
   "codemirror_mode": {
    "name": "ipython",
    "version": 3
   },
   "file_extension": ".py",
   "mimetype": "text/x-python",
   "name": "python",
   "nbconvert_exporter": "python",
   "pygments_lexer": "ipython3",
   "version": "3.11.4"
  }
 },
 "nbformat": 4,
 "nbformat_minor": 2
}

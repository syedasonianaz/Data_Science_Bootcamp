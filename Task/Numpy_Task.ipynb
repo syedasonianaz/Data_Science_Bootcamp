{
 "cells": [
  {
   "cell_type": "code",
   "execution_count": 3,
   "metadata": {},
   "outputs": [
    {
     "name": "stdout",
     "output_type": "stream",
     "text": [
      "[[ 2  3  4]\n",
      " [ 5  6  7]\n",
      " [ 8  9 10]]\n"
     ]
    }
   ],
   "source": [
    "import numpy as np\n",
    "\n",
    "# 1. Write a NumPy program to create a 3x3 matrix with values ranging from 2 to 10.\n",
    "matrix = np.arange(2, 11).reshape(3, 3)\n",
    "print(matrix)"
   ]
  },
  {
   "cell_type": "code",
   "execution_count": 4,
   "metadata": {},
   "outputs": [
    {
     "name": "stdout",
     "output_type": "stream",
     "text": [
      "[37, 36, 35, 34, 33, 32, 31, 30, 29, 28, 27, 26, 25, 24, 23, 22, 21, 20, 19, 18, 17, 16, 15, 14, 13, 12]\n"
     ]
    }
   ],
   "source": [
    "# 2. Write a NumPy program to reverse an array (the first element becomes the last).\n",
    "arr = [12,13, 14, 15, 16, 17, 18, 19, 20, 21, 22, 23, 24, 25, 26, 27, 28, 29, 30, 31, 32, 33, 34, 35, 36, 37]\n",
    "print(arr[::-1])"
   ]
  },
  {
   "cell_type": "code",
   "execution_count": 9,
   "metadata": {},
   "outputs": [
    {
     "name": "stdout",
     "output_type": "stream",
     "text": [
      "[1. 2. 3. 4. 5.]\n"
     ]
    }
   ],
   "source": [
    "# 3. Write a NumPy program to convert an array to a floating type.\n",
    "int_array = np.array([1, 2, 3, 4, 5])\n",
    "float_arr = int_array.astype(float)\n",
    "print(float_arr)"
   ]
  },
  {
   "cell_type": "code",
   "execution_count": 6,
   "metadata": {},
   "outputs": [
    {
     "name": "stdout",
     "output_type": "stream",
     "text": [
      "Result using np.add():\n",
      "[[ 8 10 12]\n",
      " [14 16 18]]\n",
      "\n",
      "Result using + operator:\n",
      "[[ 8 10 12]\n",
      " [14 16 18]]\n"
     ]
    }
   ],
   "source": [
    "# 4. Given are 2 similar dimensional numpy arrays, how to get a numpy array output in which every element is an element-wise sum of the 2 numpy arrays\n",
    "array1 = np.array([[1, 2, 3],\n",
    "                   [4, 5, 6]])\n",
    "\n",
    "array2 = np.array([[7, 8, 9],\n",
    "                   [10, 11, 12]])\n",
    "\n",
    "result1 = np.add(array1, array2)\n",
    "\n",
    "result2 = array1 + array2\n",
    "\n",
    "print(\"Result using np.add():\")\n",
    "print(result1)\n",
    "\n",
    "print(\"\\nResult using + operator:\")\n",
    "print(result2)"
   ]
  },
  {
   "cell_type": "code",
   "execution_count": 7,
   "metadata": {},
   "outputs": [
    {
     "name": "stdout",
     "output_type": "stream",
     "text": [
      "(array([2], dtype=int64),)\n"
     ]
    }
   ],
   "source": [
    "# 5. From 2 numpy arrays, extract the indexes in which the elements in the 2 arrays match\n",
    "array1 = np.array([1, 2, 3, 4, 5])\n",
    "array2 = np.array([2, 4, 3, 8, 10])\n",
    "match = np.where(array1 == array2)\n",
    "print(match)"
   ]
  }
 ],
 "metadata": {
  "kernelspec": {
   "display_name": "Python 3",
   "language": "python",
   "name": "python3"
  },
  "language_info": {
   "codemirror_mode": {
    "name": "ipython",
    "version": 3
   },
   "file_extension": ".py",
   "mimetype": "text/x-python",
   "name": "python",
   "nbconvert_exporter": "python",
   "pygments_lexer": "ipython3",
   "version": "3.11.4"
  }
 },
 "nbformat": 4,
 "nbformat_minor": 2
}
